{
 "cells": [
  {
   "cell_type": "markdown",
   "id": "71d75883",
   "metadata": {},
   "source": [
    "#  Задание 1 "
   ]
  },
  {
   "cell_type": "code",
   "execution_count": 19,
   "id": "087dfb23",
   "metadata": {},
   "outputs": [
    {
     "name": "stdout",
     "output_type": "stream",
     "text": [
      "Vvedite slovo worf\n",
      "or\n"
     ]
    }
   ],
   "source": [
    "slovo = input(\"Vvedite slovo \")\n",
    "dlina = len(slovo)\n",
    "if dlina % 2 != 0:\n",
    "    print(slovo[int(dlina/2)])\n",
    "if dlina % 2 == 0:\n",
    "    print(slovo[int(dlina/2-1)] + slovo[int(dlina/2)])"
   ]
  },
  {
   "cell_type": "markdown",
   "id": "2b4ec98a",
   "metadata": {},
   "source": [
    "# Задание 2"
   ]
  },
  {
   "cell_type": "code",
   "execution_count": 22,
   "id": "cd27d9d1",
   "metadata": {},
   "outputs": [
    {
     "name": "stdout",
     "output_type": "stream",
     "text": [
      "Vvedite chislo 4\n",
      "Vvedite chislo 5\n",
      "Vvedite chislo 6\n",
      "Vvedite chislo 0\n",
      "Rezultat:  15\n"
     ]
    }
   ],
   "source": [
    "a = int(input(\"Vvedite chislo \"))\n",
    "sum = 0\n",
    "kol = 0\n",
    "while a != 0:\n",
    "    sum += a\n",
    "    kol += 1\n",
    "    a = int(input(\"Vvedite chislo \"))\n",
    "\n",
    "print(\"Rezultat: \",sum)"
   ]
  },
  {
   "cell_type": "markdown",
   "id": "4780d0ba",
   "metadata": {},
   "source": [
    "# Задание 3"
   ]
  },
  {
   "cell_type": "code",
   "execution_count": 30,
   "id": "2ac6c52f",
   "metadata": {},
   "outputs": [
    {
     "name": "stdout",
     "output_type": "stream",
     "text": [
      "Иеальны пары:\n",
      "Eren и Frida\n",
      "Naruto и Irina\n",
      "Petya и Mikasa\n",
      "Semen и Olesya\n",
      "Vlad и Sakura\n"
     ]
    }
   ],
   "source": [
    "boys = ['Petya', 'Vlad', 'Semen', 'Eren', 'Naruto']\n",
    "girls = ['Olesya', 'Sakura', 'Mikasa', 'Irina', 'Frida']\n",
    "\n",
    "if len(boys) != len(girls):\n",
    "    print(\"Предупреждение! Кто-то остаеться без пары!\")\n",
    "\n",
    "else:\n",
    "    boys.sort()\n",
    "    girls.sort()\n",
    "\n",
    "    ideal_couples = dict(zip(boys, girls))\n",
    "    print(\"Иеальны пары:\")\n",
    "    for boy, girl in ideal_couples.items():\n",
    "        print(f\"{boy} и {girl}\")"
   ]
  },
  {
   "cell_type": "markdown",
   "id": "f984cc90",
   "metadata": {},
   "source": [
    "# Задание 4"
   ]
  },
  {
   "cell_type": "code",
   "execution_count": 85,
   "id": "5718d68d",
   "metadata": {},
   "outputs": [
    {
     "name": "stdout",
     "output_type": "stream",
     "text": [
      "Thailand - 23.9 C\n",
      "Germany - 13.8 C\n",
      "Russia - 3.7 C\n",
      "Poland - 12.0 C\n"
     ]
    }
   ],
   "source": [
    "countries_temperature = [\n",
    "    ['Thailand', [75.2, 77, 78.8, 73.4, 68, 75.2, 77]],\n",
    "    ['Germany', [57.2, 55.4, 59, 59, 53.6]],\n",
    "    ['Russia', [35.6, 37.4, 39.2, 41, 42.8, 39.2, 35.6]],\n",
    "    ['Poland', [50, 50, 53.6, 57.2, 55.4, 55.4]]\n",
    "]\n",
    "\n",
    "def listsum(numList):\n",
    "    theSum = 0\n",
    "    for i in numList:\n",
    "        theSum = theSum + i\n",
    "    return theSum\n",
    "\n",
    "for i in countries_temperature:\n",
    "    print(i[0], '-', round((listsum(i[1]) / len(i[1]) - 32) / 1.8, 1), 'C')\n",
    "    "
   ]
  },
  {
   "cell_type": "markdown",
   "id": "187c6f77",
   "metadata": {},
   "source": [
    "#  Задание 5"
   ]
  },
  {
   "cell_type": "code",
   "execution_count": 92,
   "id": "44995087",
   "metadata": {},
   "outputs": [
    {
     "name": "stdout",
     "output_type": "stream",
     "text": [
      "Rezultat  {98, 35, 15, 213, 54, 119}\n"
     ]
    }
   ],
   "source": [
    "\n",
    "ids = {'user1': [213, 213, 213, 15, 213],\n",
    "       'user2': [54, 54, 119, 119, 119],\n",
    "       'user3': [213, 98, 98, 35]}\n",
    "\n",
    "lst = ids.values()\n",
    "\n",
    "newlist = []\n",
    "for i in lst:\n",
    "    for j in i:\n",
    "        newlist.append(j)\n",
    "\n",
    "print(\"Rezultat \",set(newlist))"
   ]
  },
  {
   "cell_type": "markdown",
   "id": "582ab31b",
   "metadata": {},
   "source": [
    "# Задание 6"
   ]
  },
  {
   "cell_type": "code",
   "execution_count": 119,
   "id": "8a6ee620",
   "metadata": {},
   "outputs": [
    {
     "name": "stdout",
     "output_type": "stream",
     "text": [
      "Поисковых запросов из 3 слова: 57.14% (4 запр.)\n",
      "Поисковых запросов из 2 слова: 42.86% (3 запр.)\n"
     ]
    }
   ],
   "source": [
    "queries = [\n",
    "'смотреть сериалы онлайн',\n",
    "'новости спорта',\n",
    "'афиша кино',\n",
    "'курс доллара',\n",
    "'сериалы этим летом',\n",
    "'курс по питону',\n",
    "'сериалы про спорт'\n",
    "]\n",
    "\n",
    "storage = {}\n",
    "\n",
    "for query in queries:\n",
    "    words = query.split()\n",
    "\n",
    "    if len(words) in storage.keys():\n",
    "        storage[len(words)] += 1\n",
    "    else:\n",
    "        storage.update({\n",
    "            len(words): 1\n",
    "        })\n",
    "\n",
    "for key, value in storage.items():\n",
    "    percentage = round((value / len(queries)) * 100, 2)\n",
    "    print(f'Поисковых запросов из {key} слова: {percentage}% ({value} запр.)')"
   ]
  },
  {
   "cell_type": "markdown",
   "id": "83d64e62",
   "metadata": {},
   "source": [
    "# Задание 7"
   ]
  },
  {
   "cell_type": "code",
   "execution_count": 104,
   "id": "3aa3816d",
   "metadata": {},
   "outputs": [
    {
     "name": "stdout",
     "output_type": "stream",
     "text": [
      "{'vk': {'revenue': 103, 'cost': 98, 'ROI': 5.1}}\n",
      "{'yandex': {'revenue': 179, 'cost': 153, 'ROI': 16.99}}\n",
      "{'facebook': {'revenue': 103, 'cost': 110, 'ROI': -6.36}}\n",
      "{'adwords': {'revenue': 35, 'cost': 34, 'ROI': 2.94}}\n",
      "{'twitter': {'revenue': 11, 'cost': 24, 'ROI': -54.17}}\n"
     ]
    }
   ],
   "source": [
    "results = {\n",
    "'vk': {'revenue': 103, 'cost': 98},\n",
    "'yandex': {'revenue': 179, 'cost': 153},\n",
    "'facebook': {'revenue': 103, 'cost': 110},\n",
    "'adwords': {'revenue': 35, 'cost': 34},\n",
    "'twitter': {'revenue': 11, 'cost': 24},\n",
    "}\n",
    "\n",
    "for key, value in results.items():\n",
    "    value['ROI'] = round(((value['revenue'] / value['cost']) - 1)*100 , 2)\n",
    "#     print(key, value)\n",
    "    d = dict([(key, value)])\n",
    "    print(d)\n"
   ]
  },
  {
   "cell_type": "markdown",
   "id": "b292ad8f",
   "metadata": {},
   "source": [
    "\n",
    "# Задание 8"
   ]
  },
  {
   "cell_type": "code",
   "execution_count": 117,
   "id": "d91ab9bb",
   "metadata": {},
   "outputs": [
    {
     "name": "stdout",
     "output_type": "stream",
     "text": [
      "vk\n"
     ]
    }
   ],
   "source": [
    "stats = {'facebook': 55, \n",
    "         'yandex': 115, \n",
    "         'vk': 120, \n",
    "         'google': 99, \n",
    "         'email': 42, \n",
    "         'z' : 33,\n",
    "         'ok': 98}\n",
    "\n",
    "max_val = max(stats.items(), key=lambda x: x[1]) # вернёт ('facebook', 155)\n",
    "print(max_val[0])"
   ]
  },
  {
   "cell_type": "code",
   "execution_count": null,
   "id": "6c460380",
   "metadata": {},
   "outputs": [],
   "source": []
  }
 ],
 "metadata": {
  "kernelspec": {
   "display_name": "Python 3 (ipykernel)",
   "language": "python",
   "name": "python3"
  },
  "language_info": {
   "codemirror_mode": {
    "name": "ipython",
    "version": 3
   },
   "file_extension": ".py",
   "mimetype": "text/x-python",
   "name": "python",
   "nbconvert_exporter": "python",
   "pygments_lexer": "ipython3",
   "version": "3.9.7"
  }
 },
 "nbformat": 4,
 "nbformat_minor": 5
}
